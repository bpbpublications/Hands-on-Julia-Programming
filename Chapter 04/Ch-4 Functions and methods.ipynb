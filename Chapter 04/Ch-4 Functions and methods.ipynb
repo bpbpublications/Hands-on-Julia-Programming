{
 "cells": [
  {
   "cell_type": "markdown",
   "id": "57c05174",
   "metadata": {},
   "source": [
    "# Two Mutually Safe Queens"
   ]
  },
  {
   "cell_type": "code",
   "execution_count": 1,
   "id": "d8f5dca6",
   "metadata": {},
   "outputs": [
    {
     "data": {
      "text/plain": [
       "attacks (generic function with 1 method)"
      ]
     },
     "execution_count": 1,
     "metadata": {},
     "output_type": "execute_result"
    }
   ],
   "source": [
    "function attacks(x1, y1, x2, y2)\n",
    "    if x1 == x2\n",
    "        return true\n",
    "    elseif y1 == y2\n",
    "        return true\n",
    "    elseif x1 - y1 == x2 - y2\n",
    "        return true\n",
    "    elseif x1 + y1 == x2 + y2\n",
    "        return true\n",
    "    else\n",
    "        return false\n",
    "    end\n",
    "end"
   ]
  },
  {
   "cell_type": "code",
   "execution_count": 2,
   "id": "91db625a",
   "metadata": {},
   "outputs": [
    {
     "data": {
      "text/plain": [
       "true"
      ]
     },
     "execution_count": 2,
     "metadata": {},
     "output_type": "execute_result"
    }
   ],
   "source": [
    "attacks(1, 2, 4, 5)"
   ]
  },
  {
   "cell_type": "code",
   "execution_count": 3,
   "id": "90147438",
   "metadata": {},
   "outputs": [
    {
     "data": {
      "text/plain": [
       "false"
      ]
     },
     "execution_count": 3,
     "metadata": {},
     "output_type": "execute_result"
    }
   ],
   "source": [
    "attacks(1, 2, 4, 6)"
   ]
  },
  {
   "cell_type": "markdown",
   "id": "712f5907",
   "metadata": {},
   "source": [
    "# Operators"
   ]
  },
  {
   "cell_type": "code",
   "execution_count": 4,
   "id": "17ae8b85",
   "metadata": {},
   "outputs": [
    {
     "data": {
      "text/plain": [
       "attacks (generic function with 1 method)"
      ]
     },
     "execution_count": 4,
     "metadata": {},
     "output_type": "execute_result"
    }
   ],
   "source": [
    "function attacks(x1, y1, x2, y2)\n",
    "    return x1 == x2 || y1 == y2 || x1 - y1 == x2 - y2 || x1 + y1 == x2 + y2\n",
    "end"
   ]
  },
  {
   "cell_type": "markdown",
   "id": "ecf0d7d4",
   "metadata": {},
   "source": [
    "# Short Form"
   ]
  },
  {
   "cell_type": "code",
   "execution_count": 5,
   "id": "4edfd0f2",
   "metadata": {},
   "outputs": [
    {
     "data": {
      "text/plain": [
       "attacks (generic function with 1 method)"
      ]
     },
     "execution_count": 5,
     "metadata": {},
     "output_type": "execute_result"
    }
   ],
   "source": [
    "function attacks(x1, y1, x2, y2)\n",
    "    x1 == x2 || y1 == y2 || x1 - y1 == x2 - y2 || x1 + y1 == x2 + y2\n",
    "end"
   ]
  },
  {
   "cell_type": "code",
   "execution_count": 6,
   "id": "385aed8a",
   "metadata": {},
   "outputs": [
    {
     "data": {
      "text/plain": [
       "attattacks (generic function with 1 method)"
      ]
     },
     "execution_count": 6,
     "metadata": {},
     "output_type": "execute_result"
    }
   ],
   "source": [
    "attattacks(x1, y1, x2, y2) = (x1 == x2 || y1 == y2 || x1 - y1 == x2 - y2 || x1 + y1 == x2 + y2)"
   ]
  },
  {
   "cell_type": "code",
   "execution_count": 7,
   "id": "433671a9",
   "metadata": {},
   "outputs": [
    {
     "data": {
      "text/plain": [
       "attacks (generic function with 1 method)"
      ]
     },
     "execution_count": 7,
     "metadata": {},
     "output_type": "execute_result"
    }
   ],
   "source": [
    "attacks(x1, y1, x2, y2) = begin \n",
    "    if x1 == x2\n",
    "        return true\n",
    "    elseif y1 == y2\n",
    "        return true\n",
    "    elseif x1 - y1 == x2 - y2\n",
    "        return true\n",
    "    elseif x1 + y1 == x2 + y2\n",
    "        return true\n",
    "    else\n",
    "        return false\n",
    "    end\n",
    "end"
   ]
  },
  {
   "cell_type": "markdown",
   "id": "04d3d74a",
   "metadata": {},
   "source": [
    "# Anonymous Functions"
   ]
  },
  {
   "cell_type": "code",
   "execution_count": 8,
   "id": "381fa149",
   "metadata": {},
   "outputs": [
    {
     "data": {
      "text/plain": [
       "#1 (generic function with 1 method)"
      ]
     },
     "execution_count": 8,
     "metadata": {},
     "output_type": "execute_result"
    }
   ],
   "source": [
    "attacks_var = (x1, y1, x2, y2)->(x1 == x2 || y1 == y2 || x1 - y1 == x2 - y2 || x1 + y1 == x2 + y2)"
   ]
  },
  {
   "cell_type": "code",
   "execution_count": 9,
   "id": "160a2c98",
   "metadata": {},
   "outputs": [
    {
     "data": {
      "text/plain": [
       "true"
      ]
     },
     "execution_count": 9,
     "metadata": {},
     "output_type": "execute_result"
    }
   ],
   "source": [
    "attacks_var(1, 2, 4, 5)"
   ]
  },
  {
   "cell_type": "markdown",
   "id": "631d7198",
   "metadata": {},
   "source": [
    "# Input Arguments"
   ]
  },
  {
   "cell_type": "markdown",
   "id": "54efa636",
   "metadata": {},
   "source": [
    "# Fixed Arguments"
   ]
  },
  {
   "cell_type": "code",
   "execution_count": 10,
   "id": "5e058f7b",
   "metadata": {},
   "outputs": [
    {
     "ename": "LoadError",
     "evalue": "MethodError: no method matching attacks(::Int64, ::Int64, ::Int64, ::Int64, ::Int64)\n\u001b[0mClosest candidates are:\n\u001b[0m  attacks(::Any, ::Any, ::Any, ::Any) at In[7]:1",
     "output_type": "error",
     "traceback": [
      "MethodError: no method matching attacks(::Int64, ::Int64, ::Int64, ::Int64, ::Int64)\n\u001b[0mClosest candidates are:\n\u001b[0m  attacks(::Any, ::Any, ::Any, ::Any) at In[7]:1",
      "",
      "Stacktrace:",
      " [1] top-level scope",
      "   @ In[10]:1",
      " [2] eval",
      "   @ .\\boot.jl:360 [inlined]",
      " [3] include_string(mapexpr::typeof(REPL.softscope), mod::Module, code::String, filename::String)",
      "   @ Base .\\loading.jl:1116"
     ]
    }
   ],
   "source": [
    "attacks(1, 2, 3, 4, 5)"
   ]
  },
  {
   "cell_type": "code",
   "execution_count": 11,
   "id": "70e8bf42",
   "metadata": {},
   "outputs": [
    {
     "ename": "LoadError",
     "evalue": "MethodError: no method matching attacks(::Int64, ::Int64, ::Int64)\n\u001b[0mClosest candidates are:\n\u001b[0m  attacks(::Any, ::Any, ::Any, \u001b[91m::Any\u001b[39m) at In[7]:1",
     "output_type": "error",
     "traceback": [
      "MethodError: no method matching attacks(::Int64, ::Int64, ::Int64)\n\u001b[0mClosest candidates are:\n\u001b[0m  attacks(::Any, ::Any, ::Any, \u001b[91m::Any\u001b[39m) at In[7]:1",
      "",
      "Stacktrace:",
      " [1] top-level scope",
      "   @ In[11]:1",
      " [2] eval",
      "   @ .\\boot.jl:360 [inlined]",
      " [3] include_string(mapexpr::typeof(REPL.softscope), mod::Module, code::String, filename::String)",
      "   @ Base .\\loading.jl:1116"
     ]
    }
   ],
   "source": [
    "attacks(1, 2, 3)"
   ]
  },
  {
   "cell_type": "code",
   "execution_count": 12,
   "id": "e9527604",
   "metadata": {},
   "outputs": [
    {
     "data": {
      "text/plain": [
       "hello_world (generic function with 1 method)"
      ]
     },
     "execution_count": 12,
     "metadata": {},
     "output_type": "execute_result"
    }
   ],
   "source": [
    "function hello_world()\n",
    "    println(\"Hello World!!!\")\n",
    "end"
   ]
  },
  {
   "cell_type": "code",
   "execution_count": 13,
   "id": "b988e593",
   "metadata": {},
   "outputs": [
    {
     "name": "stdout",
     "output_type": "stream",
     "text": [
      "Hello World!!!\n"
     ]
    }
   ],
   "source": [
    "hello_world()"
   ]
  },
  {
   "cell_type": "markdown",
   "id": "3ed1a367",
   "metadata": {},
   "source": [
    "# Variable Arguments"
   ]
  },
  {
   "cell_type": "code",
   "execution_count": 14,
   "id": "9012b999",
   "metadata": {},
   "outputs": [
    {
     "data": {
      "text/plain": [
       "mysum (generic function with 1 method)"
      ]
     },
     "execution_count": 14,
     "metadata": {},
     "output_type": "execute_result"
    }
   ],
   "source": [
    "mysum(x, y...) = x + mysum(y...)"
   ]
  },
  {
   "cell_type": "code",
   "execution_count": 15,
   "id": "1aa5cef7",
   "metadata": {},
   "outputs": [
    {
     "data": {
      "text/plain": [
       "mysum (generic function with 2 methods)"
      ]
     },
     "execution_count": 15,
     "metadata": {},
     "output_type": "execute_result"
    }
   ],
   "source": [
    "mysum(x) = x"
   ]
  },
  {
   "cell_type": "code",
   "execution_count": 16,
   "id": "f34da5fe",
   "metadata": {},
   "outputs": [
    {
     "data": {
      "text/plain": [
       "3"
      ]
     },
     "execution_count": 16,
     "metadata": {},
     "output_type": "execute_result"
    }
   ],
   "source": [
    "mysum(1, 2)"
   ]
  },
  {
   "cell_type": "code",
   "execution_count": 17,
   "id": "812310e2",
   "metadata": {},
   "outputs": [
    {
     "data": {
      "text/plain": [
       "6"
      ]
     },
     "execution_count": 17,
     "metadata": {},
     "output_type": "execute_result"
    }
   ],
   "source": [
    "mysum(1, 2, 3)"
   ]
  },
  {
   "cell_type": "code",
   "execution_count": 18,
   "id": "9e786cd4",
   "metadata": {},
   "outputs": [
    {
     "data": {
      "text/plain": [
       "28"
      ]
     },
     "execution_count": 18,
     "metadata": {},
     "output_type": "execute_result"
    }
   ],
   "source": [
    "mysum(1, 2, 3, 4, 5, 6, 7)"
   ]
  },
  {
   "cell_type": "code",
   "execution_count": 19,
   "id": "44f365cb",
   "metadata": {},
   "outputs": [
    {
     "data": {
      "text/plain": [
       "mymax (generic function with 1 method)"
      ]
     },
     "execution_count": 19,
     "metadata": {},
     "output_type": "execute_result"
    }
   ],
   "source": [
    "mymax(x, y...) = mymax(x, mymax(y...))"
   ]
  },
  {
   "cell_type": "code",
   "execution_count": 20,
   "id": "d3d8796a",
   "metadata": {},
   "outputs": [
    {
     "data": {
      "text/plain": [
       "mymax (generic function with 2 methods)"
      ]
     },
     "execution_count": 20,
     "metadata": {},
     "output_type": "execute_result"
    }
   ],
   "source": [
    "mymax(x, y) = x > y ? x : y"
   ]
  },
  {
   "cell_type": "code",
   "execution_count": 21,
   "id": "ac688934",
   "metadata": {},
   "outputs": [
    {
     "data": {
      "text/plain": [
       "3"
      ]
     },
     "execution_count": 21,
     "metadata": {},
     "output_type": "execute_result"
    }
   ],
   "source": [
    "mymax(1, 2, 3)"
   ]
  },
  {
   "cell_type": "code",
   "execution_count": 22,
   "id": "22e6f9e9",
   "metadata": {},
   "outputs": [
    {
     "data": {
      "text/plain": [
       "3"
      ]
     },
     "execution_count": 22,
     "metadata": {},
     "output_type": "execute_result"
    }
   ],
   "source": [
    "mymax(3, 2, 1)"
   ]
  },
  {
   "cell_type": "code",
   "execution_count": 23,
   "id": "0df8efbf",
   "metadata": {},
   "outputs": [
    {
     "data": {
      "text/plain": [
       "10"
      ]
     },
     "execution_count": 23,
     "metadata": {},
     "output_type": "execute_result"
    }
   ],
   "source": [
    "mymax(4, 10, 3, 2, 1)"
   ]
  },
  {
   "cell_type": "code",
   "execution_count": 24,
   "id": "43726ee0",
   "metadata": {},
   "outputs": [
    {
     "ename": "LoadError",
     "evalue": "MethodError: no method matching mymax()\n\u001b[0mClosest candidates are:\n\u001b[0m  mymax(\u001b[91m::Any\u001b[39m, \u001b[91m::Any\u001b[39m) at In[20]:1\n\u001b[0m  mymax(\u001b[91m::Any\u001b[39m, \u001b[91m::Any...\u001b[39m) at In[19]:1",
     "output_type": "error",
     "traceback": [
      "MethodError: no method matching mymax()\n\u001b[0mClosest candidates are:\n\u001b[0m  mymax(\u001b[91m::Any\u001b[39m, \u001b[91m::Any\u001b[39m) at In[20]:1\n\u001b[0m  mymax(\u001b[91m::Any\u001b[39m, \u001b[91m::Any...\u001b[39m) at In[19]:1",
      "",
      "Stacktrace:",
      " [1] mymax(::Int64)",
      "   @ Main .\\In[19]:1",
      " [2] top-level scope",
      "   @ In[24]:1",
      " [3] eval",
      "   @ .\\boot.jl:360 [inlined]",
      " [4] include_string(mapexpr::typeof(REPL.softscope), mod::Module, code::String, filename::String)",
      "   @ Base .\\loading.jl:1116"
     ]
    }
   ],
   "source": [
    "mymax(1)"
   ]
  },
  {
   "cell_type": "code",
   "execution_count": 25,
   "id": "294d41d8",
   "metadata": {},
   "outputs": [
    {
     "data": {
      "text/plain": [
       "mymax (generic function with 3 methods)"
      ]
     },
     "execution_count": 25,
     "metadata": {},
     "output_type": "execute_result"
    }
   ],
   "source": [
    "mymax(x) = x"
   ]
  },
  {
   "cell_type": "code",
   "execution_count": 26,
   "id": "07b1e410",
   "metadata": {},
   "outputs": [
    {
     "data": {
      "text/plain": [
       "1"
      ]
     },
     "execution_count": 26,
     "metadata": {},
     "output_type": "execute_result"
    }
   ],
   "source": [
    "mymax(1)"
   ]
  },
  {
   "cell_type": "code",
   "execution_count": 27,
   "id": "61df9818",
   "metadata": {},
   "outputs": [
    {
     "data": {
      "text/html": [
       "# 3 methods for generic function <b>mymax</b>:<ul><li> mymax(x) in Main at In[25]:1</li> <li> mymax(x, y) in Main at In[20]:1</li> <li> mymax(x, y...) in Main at In[19]:1</li> </ul>"
      ],
      "text/plain": [
       "# 3 methods for generic function \"mymax\":\n",
       "[1] mymax(x) in Main at In[25]:1\n",
       "[2] mymax(x, y) in Main at In[20]:1\n",
       "[3] mymax(x, y...) in Main at In[19]:1"
      ]
     },
     "execution_count": 27,
     "metadata": {},
     "output_type": "execute_result"
    }
   ],
   "source": [
    "methods(mymax)"
   ]
  },
  {
   "cell_type": "markdown",
   "id": "4ba73bdb",
   "metadata": {},
   "source": [
    "# Default Values"
   ]
  },
  {
   "cell_type": "code",
   "execution_count": 28,
   "id": "156da835",
   "metadata": {},
   "outputs": [
    {
     "data": {
      "text/plain": [
       "mymax (generic function with 3 methods)"
      ]
     },
     "execution_count": 28,
     "metadata": {},
     "output_type": "execute_result"
    }
   ],
   "source": [
    "mymax(x, y...) = mymax(x, mymax(y...))\n",
    "mymax(x, y=x) = x > y ? x : y"
   ]
  },
  {
   "cell_type": "code",
   "execution_count": 29,
   "id": "5498f9ea",
   "metadata": {},
   "outputs": [
    {
     "data": {
      "text/html": [
       "# 3 methods for generic function <b>mymax</b>:<ul><li> mymax(x) in Main at In[28]:2</li> <li> mymax(x, y) in Main at In[28]:2</li> <li> mymax(x, y...) in Main at In[28]:1</li> </ul>"
      ],
      "text/plain": [
       "# 3 methods for generic function \"mymax\":\n",
       "[1] mymax(x) in Main at In[28]:2\n",
       "[2] mymax(x, y) in Main at In[28]:2\n",
       "[3] mymax(x, y...) in Main at In[28]:1"
      ]
     },
     "execution_count": 29,
     "metadata": {},
     "output_type": "execute_result"
    }
   ],
   "source": [
    "methods(mymax)"
   ]
  },
  {
   "cell_type": "markdown",
   "id": "877f6dd7",
   "metadata": {},
   "source": [
    "# Slurping and Splatting"
   ]
  },
  {
   "cell_type": "code",
   "execution_count": 30,
   "id": "5143aca4",
   "metadata": {},
   "outputs": [
    {
     "data": {
      "text/plain": [
       "test (generic function with 1 method)"
      ]
     },
     "execution_count": 30,
     "metadata": {},
     "output_type": "execute_result"
    }
   ],
   "source": [
    "function test(args...)\n",
    "    println(typeof(args))\n",
    "end"
   ]
  },
  {
   "cell_type": "code",
   "execution_count": 31,
   "id": "12ef9c5d",
   "metadata": {},
   "outputs": [
    {
     "name": "stdout",
     "output_type": "stream",
     "text": [
      "Tuple{Int64, Int64, Int64, Float64}\n"
     ]
    }
   ],
   "source": [
    "test(1, 2, 3, 4.0)"
   ]
  },
  {
   "cell_type": "code",
   "execution_count": 32,
   "id": "9382148c",
   "metadata": {},
   "outputs": [
    {
     "data": {
      "text/plain": [
       "true"
      ]
     },
     "execution_count": 32,
     "metadata": {},
     "output_type": "execute_result"
    }
   ],
   "source": [
    "q1 = (1, 2);\n",
    "q2 = (3, 4);\n",
    "attacks(q1..., q2...)"
   ]
  },
  {
   "cell_type": "markdown",
   "id": "27ec0842",
   "metadata": {},
   "source": [
    "#  Return Value"
   ]
  },
  {
   "cell_type": "code",
   "execution_count": 33,
   "id": "2d560181",
   "metadata": {},
   "outputs": [
    {
     "name": "stdout",
     "output_type": "stream",
     "text": [
      "Hello World!!!\n"
     ]
    }
   ],
   "source": [
    "a = hello_world()"
   ]
  },
  {
   "cell_type": "code",
   "execution_count": 34,
   "id": "5174bc03",
   "metadata": {},
   "outputs": [
    {
     "data": {
      "text/plain": [
       "Nothing"
      ]
     },
     "execution_count": 34,
     "metadata": {},
     "output_type": "execute_result"
    }
   ],
   "source": [
    "typeof(a)"
   ]
  },
  {
   "cell_type": "markdown",
   "id": "998b17e3",
   "metadata": {},
   "source": [
    "# Type Safety"
   ]
  },
  {
   "cell_type": "code",
   "execution_count": 35,
   "id": "b928acf5",
   "metadata": {},
   "outputs": [
    {
     "data": {
      "text/plain": [
       "attacks (generic function with 1 method)"
      ]
     },
     "execution_count": 35,
     "metadata": {},
     "output_type": "execute_result"
    }
   ],
   "source": [
    "function attacks(x1, y1, x2, y2)\n",
    "    if x1 == x2\n",
    "        return true\n",
    "    elseif y1 == y2\n",
    "        return true\n",
    "    elseif x1 - y1 == x2 - y2\n",
    "        return true\n",
    "    elseif x1 + y1 == x2 + y2\n",
    "        return true\n",
    "    end\n",
    "end"
   ]
  },
  {
   "cell_type": "code",
   "execution_count": 36,
   "id": "9dce7a8f",
   "metadata": {},
   "outputs": [
    {
     "data": {
      "text/plain": [
       "true"
      ]
     },
     "execution_count": 36,
     "metadata": {},
     "output_type": "execute_result"
    }
   ],
   "source": [
    "attacks(1, 2, 3, 4)"
   ]
  },
  {
   "cell_type": "code",
   "execution_count": 37,
   "id": "d36e2432",
   "metadata": {},
   "outputs": [],
   "source": [
    "attacks(1, 2, 3, 5)"
   ]
  },
  {
   "cell_type": "code",
   "execution_count": 38,
   "id": "bcfa1a78",
   "metadata": {},
   "outputs": [
    {
     "data": {
      "text/plain": [
       "true"
      ]
     },
     "execution_count": 38,
     "metadata": {},
     "output_type": "execute_result"
    }
   ],
   "source": [
    "a = attacks(1, 2, 3, 4)"
   ]
  },
  {
   "cell_type": "code",
   "execution_count": 39,
   "id": "c102c23f",
   "metadata": {},
   "outputs": [],
   "source": [
    "b = attacks(1, 2, 3, 5)"
   ]
  },
  {
   "cell_type": "code",
   "execution_count": 40,
   "id": "d4a36abd",
   "metadata": {},
   "outputs": [
    {
     "data": {
      "text/plain": [
       "(Bool, Nothing)"
      ]
     },
     "execution_count": 40,
     "metadata": {},
     "output_type": "execute_result"
    }
   ],
   "source": [
    "typeof(a), typeof(b)"
   ]
  },
  {
   "cell_type": "markdown",
   "id": "89b14cf1",
   "metadata": {},
   "source": [
    "# Multiple Values"
   ]
  },
  {
   "cell_type": "code",
   "execution_count": 41,
   "id": "00c2eef7",
   "metadata": {},
   "outputs": [
    {
     "data": {
      "text/plain": [
       "attacks_with_reason (generic function with 1 method)"
      ]
     },
     "execution_count": 41,
     "metadata": {},
     "output_type": "execute_result"
    }
   ],
   "source": [
    "function attacks_with_reason(x1, y1, x2, y2)\n",
    "    if x1 == x2\n",
    "        return true, :x\n",
    "    elseif y1 == y2\n",
    "        return true, :y\n",
    "    elseif x1 - y1 == x2 - y2\n",
    "        return true, :diag\n",
    "    elseif x1 + y1 == x2 + y2\n",
    "        return true, :xdiag\n",
    "    else\n",
    "        return false, :na\n",
    "    end\n",
    "end"
   ]
  },
  {
   "cell_type": "code",
   "execution_count": 42,
   "id": "b0ec5a09",
   "metadata": {},
   "outputs": [
    {
     "data": {
      "text/plain": [
       "(true, :diag)"
      ]
     },
     "execution_count": 42,
     "metadata": {},
     "output_type": "execute_result"
    }
   ],
   "source": [
    "attacks_with_reason(1, 2, 3, 4)"
   ]
  },
  {
   "cell_type": "code",
   "execution_count": 43,
   "id": "b05cc4c7",
   "metadata": {},
   "outputs": [
    {
     "data": {
      "text/plain": [
       "(false, :na)"
      ]
     },
     "execution_count": 43,
     "metadata": {},
     "output_type": "execute_result"
    }
   ],
   "source": [
    "attacks_with_reason(1, 2, 3, 1)"
   ]
  },
  {
   "cell_type": "code",
   "execution_count": 44,
   "id": "6c8570ca",
   "metadata": {},
   "outputs": [
    {
     "data": {
      "text/plain": [
       "(true, :y)"
      ]
     },
     "execution_count": 44,
     "metadata": {},
     "output_type": "execute_result"
    }
   ],
   "source": [
    "attacks_with_reason(1, 2, 3, 2)"
   ]
  },
  {
   "cell_type": "code",
   "execution_count": 45,
   "id": "7836bab2",
   "metadata": {},
   "outputs": [
    {
     "data": {
      "text/plain": [
       "(true, :xdiag)"
      ]
     },
     "execution_count": 45,
     "metadata": {},
     "output_type": "execute_result"
    }
   ],
   "source": [
    "attacks_with_reason(1, 2, 2, 1)"
   ]
  },
  {
   "cell_type": "markdown",
   "id": "d76ccbfc",
   "metadata": {},
   "source": [
    "# Recursion"
   ]
  },
  {
   "cell_type": "code",
   "execution_count": 46,
   "id": "662802a2",
   "metadata": {},
   "outputs": [
    {
     "data": {
      "text/plain": [
       "queens (generic function with 1 method)"
      ]
     },
     "execution_count": 46,
     "metadata": {},
     "output_type": "execute_result"
    }
   ],
   "source": [
    "attacks(x1, y1, x2, y2) = (x1 == x2 || y1 == y2 || x1 - y1 == x2 - y2 || x1 + y1 == x2 + y2)\n",
    "function queens(N, xs...)\n",
    "    lxs = length(xs)\n",
    "    \n",
    "## Step 6\n",
    "    c = N - lxs\n",
    "    \n",
    "## Step 3    \n",
    "    if c == 0                            \n",
    "        println(\"Final Positions: \", reverse(xs))\n",
    "        return 0\n",
    "    end\n",
    "    \n",
    "## Step 1 & 2\n",
    "    for i=1:N\n",
    "        \n",
    "## Step 2(a)        \n",
    "        res = false                      \n",
    "        for j=1:lxs\n",
    "            res = res || attacks(xs[j], N-j+1, i, c)\n",
    "        end\n",
    "        res && continue\n",
    "        \n",
    "## Step 2(c)        \n",
    "        v = queens(N, xs..., i) \n",
    "        v < 0 || return v\n",
    "    end\n",
    "    \n",
    "## Step 4    \n",
    "    return -1                            \n",
    "end"
   ]
  },
  {
   "cell_type": "code",
   "execution_count": 47,
   "id": "27490468",
   "metadata": {},
   "outputs": [
    {
     "name": "stdout",
     "output_type": "stream",
     "text": [
      "Final Positions: (4, 2, 7, 3, 6, 8, 5, 1)\n"
     ]
    },
    {
     "data": {
      "text/plain": [
       "0"
      ]
     },
     "execution_count": 47,
     "metadata": {},
     "output_type": "execute_result"
    }
   ],
   "source": [
    "queens(8)"
   ]
  },
  {
   "cell_type": "code",
   "execution_count": 48,
   "id": "28988d5e",
   "metadata": {},
   "outputs": [
    {
     "data": {
      "text/plain": [
       "queens (generic function with 1 method)"
      ]
     },
     "execution_count": 48,
     "metadata": {},
     "output_type": "execute_result"
    }
   ],
   "source": [
    "function queens(N, xs...)\n",
    "    println(xs)\n",
    "    lxs = length(xs)\n",
    "    \\\n",
    "## Step 6    \n",
    "    c = N - lxs\n",
    "    \n",
    " ## Step 3    \n",
    "    if c == 0                            \n",
    "        println(\"Final Positions: \", reverse(xs))\n",
    "        return 0\n",
    "    end\n",
    "    \n",
    "## Step 1 & 2\n",
    "    for i=1:N\n",
    "        \n",
    "## Step 2(a)        \n",
    "        res = false                      \n",
    "        for j=1:lxs\n",
    "            res = res || attacks(xs[j], N-j+1, i, c)\n",
    "        end\n",
    "        res && continue\n",
    "        \n",
    "## Step 2(c)        \n",
    "        v = queens(N, xs..., i)          \n",
    "        v < 0 || return v\n",
    "    end\n",
    "    \n",
    "## Step 4    \n",
    "    return -1                           \n",
    "end"
   ]
  },
  {
   "cell_type": "code",
   "execution_count": 49,
   "id": "32dda982",
   "metadata": {},
   "outputs": [
    {
     "name": "stdout",
     "output_type": "stream",
     "text": [
      "()\n",
      "(1,)\n",
      "(1, 3)\n",
      "(1, 3, 5)\n",
      "(1, 3, 5, 2)\n",
      "(1, 3, 5, 2, 4)\n",
      "(1, 3, 5, 2, 8)\n",
      "(1, 3, 5, 7)\n",
      "(1, 3, 5, 7, 2)\n",
      "(1, 3, 5, 7, 2, 4)\n",
      "(1, 3, 5, 7, 2, 4, 6)\n",
      "(1, 3, 5, 7, 4)\n",
      "(1, 3, 5, 8)\n",
      "(1, 3, 5, 8, 2)\n",
      "(1, 3, 5, 8, 2, 4)\n",
      "(1, 3, 5, 8, 2, 4, 6)\n",
      "(1, 3, 5, 8, 4)\n",
      "(1, 3, 6)\n",
      "(1, 3, 6, 2)\n",
      "(1, 3, 6, 2, 7)\n",
      "(1, 3, 6, 2, 7, 5)\n",
      "(1, 3, 6, 8)\n",
      "(1, 3, 6, 8, 2)\n",
      "(1, 3, 6, 8, 2, 4)\n",
      "(1, 3, 6, 8, 2, 5)\n",
      "(1, 3, 7)\n",
      "(1, 3, 7, 2)\n",
      "(1, 3, 7, 2, 4)\n",
      "(1, 3, 7, 2, 4, 8)\n",
      "(1, 3, 7, 2, 8)\n",
      "(1, 3, 7, 2, 8, 5)\n",
      "(1, 3, 8)\n",
      "(1, 3, 8, 2)\n",
      "(1, 3, 8, 2, 4)\n",
      "(1, 3, 8, 2, 7)\n",
      "(1, 3, 8, 6)\n",
      "(1, 3, 8, 6, 2)\n",
      "(1, 3, 8, 6, 4)\n",
      "(1, 3, 8, 6, 4, 2)\n",
      "(1, 3, 8, 6, 4, 2, 5)\n",
      "(1, 4)\n",
      "(1, 4, 2)\n",
      "(1, 4, 2, 5)\n",
      "(1, 4, 2, 5, 3)\n",
      "(1, 4, 2, 5, 8)\n",
      "(1, 4, 2, 7)\n",
      "(1, 4, 2, 7, 3)\n",
      "(1, 4, 2, 8)\n",
      "(1, 4, 2, 8, 3)\n",
      "(1, 4, 2, 8, 3, 7)\n",
      "(1, 4, 2, 8, 6)\n",
      "(1, 4, 2, 8, 6, 3)\n",
      "(1, 4, 6)\n",
      "(1, 4, 6, 3)\n",
      "(1, 4, 6, 8)\n",
      "(1, 4, 6, 8, 2)\n",
      "(1, 4, 6, 8, 2, 5)\n",
      "(1, 4, 6, 8, 2, 5, 3)\n",
      "(1, 4, 6, 8, 2, 7)\n",
      "(1, 4, 6, 8, 2, 7, 3)\n",
      "(1, 4, 6, 8, 3)\n",
      "(1, 4, 6, 8, 3, 5)\n",
      "(1, 4, 6, 8, 3, 7)\n",
      "(1, 4, 7)\n",
      "(1, 4, 7, 3)\n",
      "(1, 4, 7, 3, 6)\n",
      "(1, 4, 7, 3, 6, 2)\n",
      "(1, 4, 7, 3, 6, 2, 5)\n",
      "(1, 4, 7, 3, 8)\n",
      "(1, 4, 7, 3, 8, 2)\n",
      "(1, 4, 7, 3, 8, 2, 5)\n",
      "(1, 4, 7, 5)\n",
      "(1, 4, 7, 5, 2)\n",
      "(1, 4, 7, 5, 3)\n",
      "(1, 4, 7, 5, 8)\n",
      "(1, 4, 7, 5, 8, 2)\n",
      "(1, 4, 8)\n",
      "(1, 4, 8, 3)\n",
      "(1, 4, 8, 5)\n",
      "(1, 4, 8, 5, 2)\n",
      "(1, 4, 8, 5, 3)\n",
      "(1, 5)\n",
      "(1, 5, 2)\n",
      "(1, 5, 2, 6)\n",
      "(1, 5, 2, 6, 3)\n",
      "(1, 5, 2, 6, 3, 7)\n",
      "(1, 5, 2, 6, 3, 7, 4)\n",
      "(1, 5, 2, 8)\n",
      "(1, 5, 2, 8, 3)\n",
      "(1, 5, 2, 8, 3, 7)\n",
      "(1, 5, 2, 8, 3, 7, 4)\n",
      "(1, 5, 2, 8, 6)\n",
      "(1, 5, 2, 8, 6, 3)\n",
      "(1, 5, 2, 8, 6, 4)\n",
      "(1, 5, 7)\n",
      "(1, 5, 7, 2)\n",
      "(1, 5, 7, 2, 4)\n",
      "(1, 5, 7, 2, 4, 8)\n",
      "(1, 5, 7, 2, 6)\n",
      "(1, 5, 7, 2, 6, 3)\n",
      "(1, 5, 7, 2, 6, 8)\n",
      "(1, 5, 8)\n",
      "(1, 5, 8, 2)\n",
      "(1, 5, 8, 2, 4)\n",
      "(1, 5, 8, 2, 4, 7)\n",
      "(1, 5, 8, 2, 4, 7, 3)\n",
      "(1, 5, 8, 2, 7)\n",
      "(1, 5, 8, 2, 7, 3)\n",
      "(1, 5, 8, 2, 7, 3, 6)\n",
      "(1, 5, 8, 6)\n",
      "(1, 5, 8, 6, 3)\n",
      "(1, 5, 8, 6, 3, 7)\n",
      "(1, 5, 8, 6, 3, 7, 2)\n",
      "(1, 5, 8, 6, 3, 7, 2, 4)\n",
      "Final Positions: (4, 2, 7, 3, 6, 8, 5, 1)\n"
     ]
    },
    {
     "data": {
      "text/plain": [
       "0"
      ]
     },
     "execution_count": 49,
     "metadata": {},
     "output_type": "execute_result"
    }
   ],
   "source": [
    "queens(8)"
   ]
  },
  {
   "cell_type": "markdown",
   "id": "a4e7e37e",
   "metadata": {},
   "source": [
    "# Tail Call"
   ]
  },
  {
   "cell_type": "code",
   "execution_count": 50,
   "id": "7165776f",
   "metadata": {},
   "outputs": [
    {
     "data": {
      "text/plain": [
       "mycumsum (generic function with 1 method)"
      ]
     },
     "execution_count": 50,
     "metadata": {},
     "output_type": "execute_result"
    }
   ],
   "source": [
    "function mycumsum(n) \n",
    "     if n <= 0 \n",
    "         return 0 \n",
    "     else \n",
    "         return n + mycumsum(n-1)\n",
    "     end\n",
    "end"
   ]
  },
  {
   "cell_type": "code",
   "execution_count": 51,
   "id": "55fbcb5c",
   "metadata": {},
   "outputs": [
    {
     "data": {
      "text/plain": [
       "55"
      ]
     },
     "execution_count": 51,
     "metadata": {},
     "output_type": "execute_result"
    }
   ],
   "source": [
    "mycumsum(10)"
   ]
  },
  {
   "cell_type": "code",
   "execution_count": 52,
   "id": "ecb91920",
   "metadata": {},
   "outputs": [
    {
     "data": {
      "text/plain": [
       "mycumsum (generic function with 2 methods)"
      ]
     },
     "execution_count": 52,
     "metadata": {},
     "output_type": "execute_result"
    }
   ],
   "source": [
    "function mycumsum(n, acc=0)\n",
    "    if n <= 0\n",
    "        return acc\n",
    "    else\n",
    "        return mycumsum(n-1, n+acc)\n",
    "    end\n",
    "end"
   ]
  },
  {
   "cell_type": "code",
   "execution_count": 53,
   "id": "0aeb46a3",
   "metadata": {},
   "outputs": [
    {
     "data": {
      "text/plain": [
       "55"
      ]
     },
     "execution_count": 53,
     "metadata": {},
     "output_type": "execute_result"
    }
   ],
   "source": [
    "mycumsum(10)"
   ]
  },
  {
   "cell_type": "markdown",
   "id": "aaba6080",
   "metadata": {},
   "source": [
    "# Polymorphic Methods"
   ]
  },
  {
   "cell_type": "markdown",
   "id": "81c3aa53",
   "metadata": {},
   "source": [
    "# Data Types"
   ]
  },
  {
   "cell_type": "code",
   "execution_count": 54,
   "id": "ff9933f8",
   "metadata": {},
   "outputs": [
    {
     "data": {
      "text/plain": [
       "area (generic function with 2 methods)"
      ]
     },
     "execution_count": 54,
     "metadata": {},
     "output_type": "execute_result"
    }
   ],
   "source": [
    "abstract type Shape end\n",
    "struct Rectangle <: Shape\n",
    "    w::Float32\n",
    "    h::Float32\n",
    "end\n",
    "\n",
    "struct Triangle <: Shape \n",
    "    a::Float32\n",
    "    b::Float32\n",
    "    c::Float32\n",
    "end\n",
    "area(r::Rectangle)=r.w*r.h\n",
    "\n",
    "function area(t::Triangle)\n",
    "    a, b, c = t.a, t.b, t.c\n",
    "    s = (a + b + c)/2\n",
    "    return sqrt(s*(s-a)*(s-b)*(s-c))\n",
    "end"
   ]
  },
  {
   "cell_type": "code",
   "execution_count": 55,
   "id": "1f606643",
   "metadata": {},
   "outputs": [
    {
     "data": {
      "text/plain": [
       "(Rectangle(3.0f0, 4.0f0), Triangle(3.0f0, 4.0f0, 5.0f0))"
      ]
     },
     "execution_count": 55,
     "metadata": {},
     "output_type": "execute_result"
    }
   ],
   "source": [
    "r, t = Rectangle(3, 4), Triangle(3, 4, 5)"
   ]
  },
  {
   "cell_type": "code",
   "execution_count": 56,
   "id": "17c22848",
   "metadata": {},
   "outputs": [
    {
     "data": {
      "text/plain": [
       "12.0f0"
      ]
     },
     "execution_count": 56,
     "metadata": {},
     "output_type": "execute_result"
    }
   ],
   "source": [
    "area(r)"
   ]
  },
  {
   "cell_type": "code",
   "execution_count": 57,
   "id": "f2bf4a86",
   "metadata": {},
   "outputs": [
    {
     "data": {
      "text/plain": [
       "6.0f0"
      ]
     },
     "execution_count": 57,
     "metadata": {},
     "output_type": "execute_result"
    }
   ],
   "source": [
    "area(t)"
   ]
  },
  {
   "cell_type": "code",
   "execution_count": 58,
   "id": "14dcbc65",
   "metadata": {},
   "outputs": [],
   "source": [
    "Base.show(io::IO, s::Shape) = print(io, \"Shape Type:\", typeof(s), \" Area:\", area(s))"
   ]
  },
  {
   "cell_type": "code",
   "execution_count": 59,
   "id": "0681c4eb",
   "metadata": {},
   "outputs": [
    {
     "data": {
      "text/plain": [
       "Shape Type:Rectangle Area:12.0"
      ]
     },
     "execution_count": 59,
     "metadata": {},
     "output_type": "execute_result"
    }
   ],
   "source": [
    "r"
   ]
  },
  {
   "cell_type": "code",
   "execution_count": 60,
   "id": "d9f88383",
   "metadata": {},
   "outputs": [
    {
     "data": {
      "text/plain": [
       "Shape Type:Triangle Area:6.0"
      ]
     },
     "execution_count": 60,
     "metadata": {},
     "output_type": "execute_result"
    }
   ],
   "source": [
    "t"
   ]
  },
  {
   "cell_type": "markdown",
   "id": "59c5147c",
   "metadata": {},
   "source": [
    "# Multiple Dispatch"
   ]
  },
  {
   "cell_type": "markdown",
   "id": "f322ea35",
   "metadata": {},
   "source": [
    "# Constructors"
   ]
  },
  {
   "cell_type": "code",
   "execution_count": 61,
   "id": "572823ab",
   "metadata": {},
   "outputs": [],
   "source": [
    "struct RectangleA\n",
    "    w::Float32\n",
    "    h::Float32\n",
    "    function RectangleA(w::Real, h::Real)\n",
    "        (w > 0 && h > 0) || \n",
    "        error(\"invalid rectangle with non-positive h or w\")\n",
    "        return new(w, h)\n",
    "    end\n",
    "end"
   ]
  },
  {
   "cell_type": "code",
   "execution_count": 62,
   "id": "d4a64fbd",
   "metadata": {},
   "outputs": [
    {
     "ename": "LoadError",
     "evalue": "invalid rectangle with non-positive h or w",
     "output_type": "error",
     "traceback": [
      "invalid rectangle with non-positive h or w",
      "",
      "Stacktrace:",
      " [1] error(s::String)",
      "   @ Base .\\error.jl:33",
      " [2] RectangleA(w::Float64, h::Float64)",
      "   @ Main .\\In[61]:5",
      " [3] top-level scope",
      "   @ In[62]:1",
      " [4] eval",
      "   @ .\\boot.jl:360 [inlined]",
      " [5] include_string(mapexpr::typeof(REPL.softscope), mod::Module, code::String, filename::String)",
      "   @ Base .\\loading.jl:1116"
     ]
    }
   ],
   "source": [
    "a = RectangleA(1.0, -4.0)"
   ]
  },
  {
   "cell_type": "code",
   "execution_count": 63,
   "id": "d79d3417",
   "metadata": {},
   "outputs": [
    {
     "data": {
      "text/plain": [
       "RectangleA(0.2f0, 0.8f0)"
      ]
     },
     "execution_count": 63,
     "metadata": {},
     "output_type": "execute_result"
    }
   ],
   "source": [
    "a = RectangleA(1//5, 4//5)"
   ]
  },
  {
   "cell_type": "code",
   "execution_count": 64,
   "id": "17959e30",
   "metadata": {},
   "outputs": [
    {
     "data": {
      "text/plain": [
       "RectangleA(1.0f0, 4.0f0)"
      ]
     },
     "execution_count": 64,
     "metadata": {},
     "output_type": "execute_result"
    }
   ],
   "source": [
    "a = RectangleA(1, 4)"
   ]
  },
  {
   "cell_type": "code",
   "execution_count": 65,
   "id": "f5f6bedd",
   "metadata": {},
   "outputs": [
    {
     "data": {
      "text/plain": [
       "RectangleA(1.0f0, 4.0f0)"
      ]
     },
     "execution_count": 65,
     "metadata": {},
     "output_type": "execute_result"
    }
   ],
   "source": [
    "a = RectangleA(1.0, 4.0)"
   ]
  },
  {
   "cell_type": "code",
   "execution_count": 66,
   "id": "9ff38934",
   "metadata": {},
   "outputs": [
    {
     "data": {
      "text/plain": [
       "RectangleA"
      ]
     },
     "execution_count": 66,
     "metadata": {},
     "output_type": "execute_result"
    }
   ],
   "source": [
    "RectangleA(a=1.0)=RectangleA(a, a)"
   ]
  },
  {
   "cell_type": "code",
   "execution_count": 67,
   "id": "9dcac60e",
   "metadata": {},
   "outputs": [
    {
     "data": {
      "text/plain": [
       "RectangleA(1.0f0, 1.0f0)"
      ]
     },
     "execution_count": 67,
     "metadata": {},
     "output_type": "execute_result"
    }
   ],
   "source": [
    "RectangleA()"
   ]
  },
  {
   "cell_type": "code",
   "execution_count": 68,
   "id": "2ab6e8c2",
   "metadata": {},
   "outputs": [
    {
     "data": {
      "text/plain": [
       "RectangleA(2.0f0, 2.0f0)"
      ]
     },
     "execution_count": 68,
     "metadata": {},
     "output_type": "execute_result"
    }
   ],
   "source": [
    "RectangleA(2.0)"
   ]
  },
  {
   "cell_type": "code",
   "execution_count": 69,
   "id": "62f11e97",
   "metadata": {},
   "outputs": [
    {
     "data": {
      "text/html": [
       "# 3 methods for type constructor:<ul><li> RectangleA() in Main at In[66]:1</li> <li> RectangleA(w::<b>Real</b>, h::<b>Real</b>) in Main at In[61]:4</li> <li> RectangleA(a) in Main at In[66]:1</li> </ul>"
      ],
      "text/plain": [
       "# 3 methods for type constructor:\n",
       "[1] RectangleA() in Main at In[66]:1\n",
       "[2] RectangleA(w::Real, h::Real) in Main at In[61]:4\n",
       "[3] RectangleA(a) in Main at In[66]:1"
      ]
     },
     "execution_count": 69,
     "metadata": {},
     "output_type": "execute_result"
    }
   ],
   "source": [
    "methods(RectangleA)"
   ]
  },
  {
   "cell_type": "markdown",
   "id": "6e5564b2",
   "metadata": {},
   "source": [
    "# Return Value"
   ]
  },
  {
   "cell_type": "markdown",
   "id": "5a80e199",
   "metadata": {},
   "source": [
    "# Parametric Data Type"
   ]
  },
  {
   "cell_type": "code",
   "execution_count": 70,
   "id": "2df3ba6d",
   "metadata": {},
   "outputs": [],
   "source": [
    "struct RectangleB{T <: Real}\n",
    "    w::T\n",
    "    h::T\n",
    "end"
   ]
  },
  {
   "cell_type": "code",
   "execution_count": 71,
   "id": "209cb9c6",
   "metadata": {},
   "outputs": [
    {
     "data": {
      "text/plain": [
       "RectangleB{Rational{Int64}}(2//3, 1//4)"
      ]
     },
     "execution_count": 71,
     "metadata": {},
     "output_type": "execute_result"
    }
   ],
   "source": [
    "RectangleB(2//3, 1//4)"
   ]
  },
  {
   "cell_type": "code",
   "execution_count": 72,
   "id": "2dca4a51",
   "metadata": {},
   "outputs": [
    {
     "data": {
      "text/plain": [
       "RectangleB{Float32}(1.0f0, 2.0f0)"
      ]
     },
     "execution_count": 72,
     "metadata": {},
     "output_type": "execute_result"
    }
   ],
   "source": [
    "RectangleB(1f0, 2f0)"
   ]
  },
  {
   "cell_type": "code",
   "execution_count": 73,
   "id": "765cfdc3",
   "metadata": {},
   "outputs": [
    {
     "ename": "LoadError",
     "evalue": "MethodError: no method matching RectangleB(::Rational{Int64}, ::Float32)\n\u001b[0mClosest candidates are:\n\u001b[0m  RectangleB(::T, \u001b[91m::T\u001b[39m) where T<:Real at In[70]:2",
     "output_type": "error",
     "traceback": [
      "MethodError: no method matching RectangleB(::Rational{Int64}, ::Float32)\n\u001b[0mClosest candidates are:\n\u001b[0m  RectangleB(::T, \u001b[91m::T\u001b[39m) where T<:Real at In[70]:2",
      "",
      "Stacktrace:",
      " [1] top-level scope",
      "   @ In[73]:1",
      " [2] eval",
      "   @ .\\boot.jl:360 [inlined]",
      " [3] include_string(mapexpr::typeof(REPL.softscope), mod::Module, code::String, filename::String)",
      "   @ Base .\\loading.jl:1116"
     ]
    }
   ],
   "source": [
    "RectangleB(2//3, 1f0)"
   ]
  },
  {
   "cell_type": "code",
   "execution_count": 74,
   "id": "76680e15",
   "metadata": {},
   "outputs": [
    {
     "data": {
      "text/plain": [
       "RectangleB{Int64}(97, 1)"
      ]
     },
     "execution_count": 74,
     "metadata": {},
     "output_type": "execute_result"
    }
   ],
   "source": [
    "RectangleB{Int}('a', 1f0)"
   ]
  },
  {
   "cell_type": "code",
   "execution_count": 75,
   "id": "d6d097d7",
   "metadata": {},
   "outputs": [
    {
     "data": {
      "text/plain": [
       "aspect_ratio (generic function with 1 method)"
      ]
     },
     "execution_count": 75,
     "metadata": {},
     "output_type": "execute_result"
    }
   ],
   "source": [
    "area(r::RectangleB)=r.w*r.h\n",
    "aspect_ratio(r::RectangleB)=r.w/r.h"
   ]
  },
  {
   "cell_type": "code",
   "execution_count": 76,
   "id": "01ed9e74",
   "metadata": {},
   "outputs": [
    {
     "data": {
      "text/plain": [
       "(RectangleB{Rational{Int64}}(1//2, 2//3), RectangleB{Float64}(1.5, 0.5), RectangleB{Int64}(1, 2))"
      ]
     },
     "execution_count": 76,
     "metadata": {},
     "output_type": "execute_result"
    }
   ],
   "source": [
    "r, r1, r2 = RectangleB(1//2, 2//3), RectangleB(1.5, 0.5), RectangleB(1, 2)"
   ]
  },
  {
   "cell_type": "code",
   "execution_count": 77,
   "id": "acb0cad4",
   "metadata": {},
   "outputs": [
    {
     "data": {
      "text/plain": [
       "(1//3, 0.75, 2)"
      ]
     },
     "execution_count": 77,
     "metadata": {},
     "output_type": "execute_result"
    }
   ],
   "source": [
    "area(r), area(r1), area(r2)"
   ]
  },
  {
   "cell_type": "code",
   "execution_count": 78,
   "id": "609f0fe8",
   "metadata": {},
   "outputs": [
    {
     "data": {
      "text/plain": [
       "(3//4, 3.0, 0.5)"
      ]
     },
     "execution_count": 78,
     "metadata": {},
     "output_type": "execute_result"
    }
   ],
   "source": [
    "aspect_ratio(r), aspect_ratio(r1), aspect_ratio(r2)"
   ]
  },
  {
   "cell_type": "code",
   "execution_count": 79,
   "id": "ee2230c8",
   "metadata": {},
   "outputs": [
    {
     "data": {
      "text/plain": [
       "aspect_ratio (generic function with 2 methods)"
      ]
     },
     "execution_count": 79,
     "metadata": {},
     "output_type": "execute_result"
    }
   ],
   "source": [
    "aspect_ratio(r::RectangleB{T}) where T<:Union{Integer, Rational} = r.w//r.h"
   ]
  },
  {
   "cell_type": "code",
   "execution_count": 80,
   "id": "09d4ca29",
   "metadata": {},
   "outputs": [
    {
     "data": {
      "text/plain": [
       "(3//4, 3.0, 1//2)"
      ]
     },
     "execution_count": 80,
     "metadata": {},
     "output_type": "execute_result"
    }
   ],
   "source": [
    "aspect_ratio(r), aspect_ratio(r1), aspect_ratio(r2)"
   ]
  },
  {
   "cell_type": "code",
   "execution_count": 81,
   "id": "2194add4",
   "metadata": {},
   "outputs": [
    {
     "data": {
      "text/plain": [
       "aspect_ratio (generic function with 3 methods)"
      ]
     },
     "execution_count": 81,
     "metadata": {},
     "output_type": "execute_result"
    }
   ],
   "source": [
    "aspect_ratio(r::RectangleB{T}) where T<:Integer = r.w//r.h"
   ]
  },
  {
   "cell_type": "code",
   "execution_count": 82,
   "id": "77d341cc",
   "metadata": {},
   "outputs": [
    {
     "data": {
      "text/plain": [
       "aspect_ratio (generic function with 4 methods)"
      ]
     },
     "execution_count": 82,
     "metadata": {},
     "output_type": "execute_result"
    }
   ],
   "source": [
    "aspect_ratio(r::RectangleB{T}) where T<:Rational = r.w//r.h"
   ]
  },
  {
   "cell_type": "code",
   "execution_count": 83,
   "id": "0792067a",
   "metadata": {},
   "outputs": [
    {
     "data": {
      "text/plain": [
       "false"
      ]
     },
     "execution_count": 83,
     "metadata": {},
     "output_type": "execute_result"
    }
   ],
   "source": [
    "RectangleB{Rational{Int}} <: RectangleB{Rational}"
   ]
  },
  {
   "cell_type": "code",
   "execution_count": 84,
   "id": "bb7dbdc3",
   "metadata": {},
   "outputs": [
    {
     "data": {
      "text/plain": [
       "true"
      ]
     },
     "execution_count": 84,
     "metadata": {},
     "output_type": "execute_result"
    }
   ],
   "source": [
    "RectangleB{Rational{Int}} <: RectangleB"
   ]
  },
  {
   "cell_type": "code",
   "execution_count": 85,
   "id": "b3dd68a5",
   "metadata": {},
   "outputs": [
    {
     "data": {
      "text/plain": [
       "true"
      ]
     },
     "execution_count": 85,
     "metadata": {},
     "output_type": "execute_result"
    }
   ],
   "source": [
    "RectangleB{Rational} <: RectangleB"
   ]
  },
  {
   "cell_type": "markdown",
   "id": "22e2a94e",
   "metadata": {},
   "source": [
    "# Type Interaction"
   ]
  },
  {
   "cell_type": "code",
   "execution_count": 86,
   "id": "011eeac7",
   "metadata": {},
   "outputs": [
    {
     "data": {
      "text/plain": [
       "3.0f0"
      ]
     },
     "execution_count": 86,
     "metadata": {},
     "output_type": "execute_result"
    }
   ],
   "source": [
    "1f0+2"
   ]
  },
  {
   "cell_type": "code",
   "execution_count": 87,
   "id": "3fe3d49f",
   "metadata": {},
   "outputs": [
    {
     "data": {
      "text/plain": [
       "3.0"
      ]
     },
     "execution_count": 87,
     "metadata": {},
     "output_type": "execute_result"
    }
   ],
   "source": [
    "1f0+2.0"
   ]
  },
  {
   "cell_type": "code",
   "execution_count": 88,
   "id": "9594fb54",
   "metadata": {},
   "outputs": [
    {
     "data": {
      "text/plain": [
       "f (generic function with 1 method)"
      ]
     },
     "execution_count": 88,
     "metadata": {},
     "output_type": "execute_result"
    }
   ],
   "source": [
    "function f()\n",
    "    i::Int = 0\n",
    "    i = 1.5\n",
    "    return i\n",
    "end"
   ]
  },
  {
   "cell_type": "code",
   "execution_count": 89,
   "id": "b0cf66c6",
   "metadata": {},
   "outputs": [
    {
     "ename": "LoadError",
     "evalue": "InexactError: Int64(1.5)",
     "output_type": "error",
     "traceback": [
      "InexactError: Int64(1.5)",
      "",
      "Stacktrace:",
      " [1] Int64",
      "   @ .\\float.jl:723 [inlined]",
      " [2] convert(#unused#::Type{Int64}, x::Float64)",
      "   @ Base .\\number.jl:7",
      " [3] f()",
      "   @ Main .\\In[88]:3",
      " [4] top-level scope",
      "   @ In[89]:1",
      " [5] eval",
      "   @ .\\boot.jl:360 [inlined]",
      " [6] include_string(mapexpr::typeof(REPL.softscope), mod::Module, code::String, filename::String)",
      "   @ Base .\\loading.jl:1116"
     ]
    }
   ],
   "source": [
    "f()"
   ]
  },
  {
   "cell_type": "code",
   "execution_count": 91,
   "id": "023432ca",
   "metadata": {},
   "outputs": [
    {
     "data": {
      "text/plain": [
       "RectangleB{Int64}(97, 1)"
      ]
     },
     "execution_count": 91,
     "metadata": {},
     "output_type": "execute_result"
    }
   ],
   "source": [
    " #When paramter is already provided the function arguments are converted to the expected data types.\n",
    "RectangleB{Int}('a', 1.0)"
   ]
  },
  {
   "cell_type": "code",
   "execution_count": 92,
   "id": "b31a4821",
   "metadata": {},
   "outputs": [
    {
     "ename": "LoadError",
     "evalue": "MethodError: \u001b[0mCannot `convert` an object of type \u001b[92mString\u001b[39m\u001b[0m to an object of type \u001b[91mInt64\u001b[39m\n\u001b[0mClosest candidates are:\n\u001b[0m  convert(::Type{T}, \u001b[91m::T\u001b[39m) where T<:Number at number.jl:6\n\u001b[0m  convert(::Type{T}, \u001b[91m::Number\u001b[39m) where T<:Number at number.jl:7\n\u001b[0m  convert(::Type{T}, \u001b[91m::Base.TwicePrecision\u001b[39m) where T<:Number at twiceprecision.jl:250\n\u001b[0m  ...",
     "output_type": "error",
     "traceback": [
      "MethodError: \u001b[0mCannot `convert` an object of type \u001b[92mString\u001b[39m\u001b[0m to an object of type \u001b[91mInt64\u001b[39m\n\u001b[0mClosest candidates are:\n\u001b[0m  convert(::Type{T}, \u001b[91m::T\u001b[39m) where T<:Number at number.jl:6\n\u001b[0m  convert(::Type{T}, \u001b[91m::Number\u001b[39m) where T<:Number at number.jl:7\n\u001b[0m  convert(::Type{T}, \u001b[91m::Base.TwicePrecision\u001b[39m) where T<:Number at twiceprecision.jl:250\n\u001b[0m  ...",
      "",
      "Stacktrace:",
      " [1] RectangleB{Int64}(w::String, h::Float64)",
      "   @ Main .\\In[70]:2",
      " [2] top-level scope",
      "   @ In[92]:1",
      " [3] eval",
      "   @ .\\boot.jl:360 [inlined]",
      " [4] include_string(mapexpr::typeof(REPL.softscope), mod::Module, code::String, filename::String)",
      "   @ Base .\\loading.jl:1116"
     ]
    }
   ],
   "source": [
    "RectangleB{Int}(\"abc\", 1.0)"
   ]
  },
  {
   "cell_type": "markdown",
   "id": "916c1d55",
   "metadata": {},
   "source": [
    "# Promotion"
   ]
  },
  {
   "cell_type": "code",
   "execution_count": 93,
   "id": "f6cdaee1",
   "metadata": {},
   "outputs": [],
   "source": [
    "struct RectangleP{T<:Real}\n",
    "    w::T\n",
    "    h::T\n",
    "    RectangleP(w::T, h::T) where T<:Real=new{T}(w, h)\n",
    "end"
   ]
  },
  {
   "cell_type": "code",
   "execution_count": 94,
   "id": "01dd2921",
   "metadata": {},
   "outputs": [
    {
     "ename": "LoadError",
     "evalue": "MethodError: no method matching RectangleP(::Int64, ::Float64)\n\u001b[0mClosest candidates are:\n\u001b[0m  RectangleP(::T, \u001b[91m::T\u001b[39m) where T<:Real at In[93]:4",
     "output_type": "error",
     "traceback": [
      "MethodError: no method matching RectangleP(::Int64, ::Float64)\n\u001b[0mClosest candidates are:\n\u001b[0m  RectangleP(::T, \u001b[91m::T\u001b[39m) where T<:Real at In[93]:4",
      "",
      "Stacktrace:",
      " [1] top-level scope",
      "   @ In[94]:1",
      " [2] eval",
      "   @ .\\boot.jl:360 [inlined]",
      " [3] include_string(mapexpr::typeof(REPL.softscope), mod::Module, code::String, filename::String)",
      "   @ Base .\\loading.jl:1116"
     ]
    }
   ],
   "source": [
    "RectangleP(1, 2.0)"
   ]
  },
  {
   "cell_type": "code",
   "execution_count": 95,
   "id": "435182a3",
   "metadata": {},
   "outputs": [
    {
     "data": {
      "text/plain": [
       "RectangleP"
      ]
     },
     "execution_count": 95,
     "metadata": {},
     "output_type": "execute_result"
    }
   ],
   "source": [
    "function RectangleP(w::T1, h::T2) where {T1<:Real, T2<:Real}\n",
    "    w1, h1 = promote(w, h)\n",
    "    return RectangleP(w1, h1)\n",
    "end"
   ]
  },
  {
   "cell_type": "code",
   "execution_count": 96,
   "id": "8fb20962",
   "metadata": {},
   "outputs": [
    {
     "data": {
      "text/plain": [
       "RectangleP{Float64}(1.0, 2.0)"
      ]
     },
     "execution_count": 96,
     "metadata": {},
     "output_type": "execute_result"
    }
   ],
   "source": [
    "RectangleP(1, 2.0)"
   ]
  },
  {
   "cell_type": "code",
   "execution_count": 97,
   "id": "8c423866",
   "metadata": {},
   "outputs": [
    {
     "data": {
      "text/plain": [
       "minrect (generic function with 1 method)"
      ]
     },
     "execution_count": 97,
     "metadata": {},
     "output_type": "execute_result"
    }
   ],
   "source": [
    "function minrect(r1::RectangleP, r2::RectangleP)\n",
    "    w = r1.w < r2.w ? r1.w : r2.w\n",
    "    h = r1.h < r2.h ? r1.h : r2.h\n",
    "    return RectangleP(w, h)\n",
    "end"
   ]
  },
  {
   "cell_type": "code",
   "execution_count": 98,
   "id": "0a69b412",
   "metadata": {},
   "outputs": [
    {
     "data": {
      "text/plain": [
       "RectangleP{Float64}(1.0, 0.5)"
      ]
     },
     "execution_count": 98,
     "metadata": {},
     "output_type": "execute_result"
    }
   ],
   "source": [
    "minrect(RectangleP(1, 2), RectangleP(2.0, 0.5))"
   ]
  },
  {
   "cell_type": "code",
   "execution_count": 99,
   "id": "2d0827bd",
   "metadata": {},
   "outputs": [
    {
     "data": {
      "text/plain": [
       "RectangleP{Int64}(1, 2)"
      ]
     },
     "execution_count": 99,
     "metadata": {},
     "output_type": "execute_result"
    }
   ],
   "source": [
    "minrect(RectangleP(1, 2), RectangleP(3.0, 4.0))"
   ]
  },
  {
   "cell_type": "code",
   "execution_count": 100,
   "id": "05f52aea",
   "metadata": {},
   "outputs": [
    {
     "data": {
      "text/plain": [
       "minrect (generic function with 1 method)"
      ]
     },
     "execution_count": 100,
     "metadata": {},
     "output_type": "execute_result"
    }
   ],
   "source": [
    "Base.promote_rule(::Type{RectangleP{T}}, ::Type{RectangleP{S}}) where {T<:Real, S<:Real} = RectangleP{promote_type(S, T)}\n",
    "Base.convert(::Type{RectangleP{T}}, x::RectangleP{S}) where {T<:Real, S<:Real} = RectangleP(T(x.w), T(x.h))\n",
    "\n",
    "function minrect(tr1::RectangleP, tr2::RectangleP)\n",
    "    r1, r2 = promote(tr1, tr2)\n",
    "    w = r1.w < r2.w ? r1.w : r2.w\n",
    "    h = r1.h < r2.h ? r1.h : r2.h\n",
    "    return RectangleP(w, h)\n",
    "end"
   ]
  },
  {
   "cell_type": "code",
   "execution_count": 101,
   "id": "56ac9126",
   "metadata": {},
   "outputs": [
    {
     "data": {
      "text/plain": [
       "RectangleP{Float64}(1.0, 2.0)"
      ]
     },
     "execution_count": 101,
     "metadata": {},
     "output_type": "execute_result"
    }
   ],
   "source": [
    "minrect(RectangleP(1, 2), RectangleP(3.0, 4.0))"
   ]
  },
  {
   "cell_type": "code",
   "execution_count": null,
   "id": "7e024062",
   "metadata": {},
   "outputs": [],
   "source": []
  }
 ],
 "metadata": {
  "kernelspec": {
   "display_name": "Julia 1.6.7",
   "language": "julia",
   "name": "julia-1.6"
  },
  "language_info": {
   "file_extension": ".jl",
   "mimetype": "application/julia",
   "name": "julia",
   "version": "1.6.7"
  }
 },
 "nbformat": 4,
 "nbformat_minor": 5
}
